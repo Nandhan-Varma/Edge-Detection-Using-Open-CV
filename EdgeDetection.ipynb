{
 "cells": [
  {
   "cell_type": "code",
   "execution_count": null,
   "metadata": {
    "ExecuteTime": {
     "end_time": "2022-05-04T07:06:44.640803Z",
     "start_time": "2022-05-04T07:06:22.948017Z"
    }
   },
   "outputs": [],
   "source": [
    "# OpenCV program to perform Edge detection in real time \n",
    "# import libraries of python OpenCV  \n",
    "# where its functionality resides \n",
    "import cv2  \n",
    "  \n",
    "# np is an alias pointing to numpy library \n",
    "import numpy as np \n",
    "  \n",
    "  \n",
    "# capture frames from a camera \n",
    "cam = cv2.VideoCapture(0) \n",
    "  \n",
    "  \n",
    "# loop runs if capturing has been initialized \n",
    "while True: \n",
    "  \n",
    "    # reads frames from a camera \n",
    "    ret, frame = cam.read() \n",
    "    #cv2.imshow('Video',frame)\n",
    "    \n",
    "    #Laplacian Filter\n",
    "    laplace = cv2.Laplacian(frame,cv2.CV_64F)\n",
    "    laplace = np.uint8(laplace)\n",
    "    cv2.imshow('Laplace',laplace)\n",
    "    \n",
    "    edges_canny = cv2.Canny(frame,100,100)\n",
    "    cv2.imshow('Canny',edges_canny)\n",
    "  \n",
    "    #Clicking X will terminate the process\n",
    "    if cv2.waitKey(5) == ord('x'):\n",
    "        break\n",
    "  \n",
    "  \n",
    "# Close the window \n",
    "cam.release() \n",
    "  \n",
    "# De-allocate any associated memory usage \n",
    "cv2.destroyAllWindows() "
   ]
  },
  {
   "cell_type": "code",
   "execution_count": null,
   "metadata": {},
   "outputs": [],
   "source": []
  },
  {
   "cell_type": "code",
   "execution_count": null,
   "metadata": {},
   "outputs": [],
   "source": []
  },
  {
   "cell_type": "code",
   "execution_count": null,
   "metadata": {},
   "outputs": [],
   "source": []
  }
 ],
 "metadata": {
  "kernelspec": {
   "display_name": "Python 3 (ipykernel)",
   "language": "python",
   "name": "python3"
  },
  "language_info": {
   "codemirror_mode": {
    "name": "ipython",
    "version": 3
   },
   "file_extension": ".py",
   "mimetype": "text/x-python",
   "name": "python",
   "nbconvert_exporter": "python",
   "pygments_lexer": "ipython3",
   "version": "3.8.10"
  }
 },
 "nbformat": 4,
 "nbformat_minor": 2
}
